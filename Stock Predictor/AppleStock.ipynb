{
 "cells": [
  {
   "cell_type": "code",
   "execution_count": 3,
   "id": "bfdf3b30-779d-4613-baa5-36f1f29d19c4",
   "metadata": {},
   "outputs": [
    {
     "name": "stdout",
     "output_type": "stream",
     "text": [
      "Collecting yfinance\n",
      "  Using cached yfinance-0.2.38-py2.py3-none-any.whl.metadata (11 kB)\n",
      "Collecting pandas>=1.3.0 (from yfinance)\n",
      "  Downloading pandas-2.2.2-cp39-cp39-macosx_11_0_arm64.whl.metadata (19 kB)\n",
      "Requirement already satisfied: numpy>=1.16.5 in /Users/stevenmac/miniconda3/envs/env-tf/lib/python3.9/site-packages (from yfinance) (1.26.3)\n",
      "Requirement already satisfied: requests>=2.31 in /Users/stevenmac/miniconda3/envs/env-tf/lib/python3.9/site-packages (from yfinance) (2.31.0)\n",
      "Collecting multitasking>=0.0.7 (from yfinance)\n",
      "  Using cached multitasking-0.0.11-py3-none-any.whl.metadata (5.5 kB)\n",
      "Collecting lxml>=4.9.1 (from yfinance)\n",
      "  Downloading lxml-5.2.2-cp39-cp39-macosx_10_9_universal2.whl.metadata (3.4 kB)\n",
      "Collecting appdirs>=1.4.4 (from yfinance)\n",
      "  Using cached appdirs-1.4.4-py2.py3-none-any.whl.metadata (9.0 kB)\n",
      "Requirement already satisfied: pytz>=2022.5 in /Users/stevenmac/miniconda3/envs/env-tf/lib/python3.9/site-packages (from yfinance) (2023.3.post1)\n",
      "Collecting frozendict>=2.3.4 (from yfinance)\n",
      "  Downloading frozendict-2.4.4-cp39-cp39-macosx_11_0_arm64.whl.metadata (23 kB)\n",
      "Collecting peewee>=3.16.2 (from yfinance)\n",
      "  Using cached peewee-3.17.5.tar.gz (3.0 MB)\n",
      "  Installing build dependencies ... \u001b[?25ldone\n",
      "\u001b[?25h  Getting requirements to build wheel ... \u001b[?25ldone\n",
      "\u001b[?25h  Preparing metadata (pyproject.toml) ... \u001b[?25ldone\n",
      "\u001b[?25hRequirement already satisfied: beautifulsoup4>=4.11.1 in /Users/stevenmac/miniconda3/envs/env-tf/lib/python3.9/site-packages (from yfinance) (4.12.2)\n",
      "Collecting html5lib>=1.1 (from yfinance)\n",
      "  Using cached html5lib-1.1-py2.py3-none-any.whl.metadata (16 kB)\n",
      "Requirement already satisfied: soupsieve>1.2 in /Users/stevenmac/miniconda3/envs/env-tf/lib/python3.9/site-packages (from beautifulsoup4>=4.11.1->yfinance) (2.5)\n",
      "Requirement already satisfied: six>=1.9 in /Users/stevenmac/miniconda3/envs/env-tf/lib/python3.9/site-packages (from html5lib>=1.1->yfinance) (1.16.0)\n",
      "Requirement already satisfied: webencodings in /Users/stevenmac/miniconda3/envs/env-tf/lib/python3.9/site-packages (from html5lib>=1.1->yfinance) (0.5.1)\n",
      "Requirement already satisfied: python-dateutil>=2.8.2 in /Users/stevenmac/miniconda3/envs/env-tf/lib/python3.9/site-packages (from pandas>=1.3.0->yfinance) (2.8.2)\n",
      "Collecting tzdata>=2022.7 (from pandas>=1.3.0->yfinance)\n",
      "  Using cached tzdata-2024.1-py2.py3-none-any.whl.metadata (1.4 kB)\n",
      "Requirement already satisfied: charset-normalizer<4,>=2 in /Users/stevenmac/miniconda3/envs/env-tf/lib/python3.9/site-packages (from requests>=2.31->yfinance) (3.3.2)\n",
      "Requirement already satisfied: idna<4,>=2.5 in /Users/stevenmac/miniconda3/envs/env-tf/lib/python3.9/site-packages (from requests>=2.31->yfinance) (3.6)\n",
      "Requirement already satisfied: urllib3<3,>=1.21.1 in /Users/stevenmac/miniconda3/envs/env-tf/lib/python3.9/site-packages (from requests>=2.31->yfinance) (2.1.0)\n",
      "Requirement already satisfied: certifi>=2017.4.17 in /Users/stevenmac/miniconda3/envs/env-tf/lib/python3.9/site-packages (from requests>=2.31->yfinance) (2023.11.17)\n",
      "Using cached yfinance-0.2.38-py2.py3-none-any.whl (72 kB)\n",
      "Using cached appdirs-1.4.4-py2.py3-none-any.whl (9.6 kB)\n",
      "Downloading frozendict-2.4.4-cp39-cp39-macosx_11_0_arm64.whl (37 kB)\n",
      "Using cached html5lib-1.1-py2.py3-none-any.whl (112 kB)\n",
      "Downloading lxml-5.2.2-cp39-cp39-macosx_10_9_universal2.whl (8.1 MB)\n",
      "\u001b[2K   \u001b[90m━━━━━━━━━━━━━━━━━━━━━━━━━━━━━━━━━━━━━━━━\u001b[0m \u001b[32m8.1/8.1 MB\u001b[0m \u001b[31m730.3 kB/s\u001b[0m eta \u001b[36m0:00:00\u001b[0m00:01\u001b[0m00:01\u001b[0m\n",
      "\u001b[?25hUsing cached multitasking-0.0.11-py3-none-any.whl (8.5 kB)\n",
      "Downloading pandas-2.2.2-cp39-cp39-macosx_11_0_arm64.whl (11.3 MB)\n",
      "\u001b[2K   \u001b[90m━━━━━━━━━━━━━━━━━━━━━━━━━━━━━━━━━━━━━━━━\u001b[0m \u001b[32m11.3/11.3 MB\u001b[0m \u001b[31m730.5 kB/s\u001b[0m eta \u001b[36m0:00:00\u001b[0m00:01\u001b[0m00:01\u001b[0m\n",
      "\u001b[?25hUsing cached tzdata-2024.1-py2.py3-none-any.whl (345 kB)\n",
      "Building wheels for collected packages: peewee\n",
      "  Building wheel for peewee (pyproject.toml) ... \u001b[?25ldone\n",
      "\u001b[?25h  Created wheel for peewee: filename=peewee-3.17.5-cp39-cp39-macosx_11_0_arm64.whl size=248057 sha256=aae58d2056904e415fb46adf4f67db294f7b3dd08be8c3907dcb0bdf1b5dde09\n",
      "  Stored in directory: /Users/stevenmac/Library/Caches/pip/wheels/95/bd/4e/15d1893c245357e4d2353e77456c0be9561d1942ed9fe664ca\n",
      "Successfully built peewee\n",
      "Installing collected packages: peewee, multitasking, appdirs, tzdata, lxml, html5lib, frozendict, pandas, yfinance\n",
      "Successfully installed appdirs-1.4.4 frozendict-2.4.4 html5lib-1.1 lxml-5.2.2 multitasking-0.0.11 pandas-2.2.2 peewee-3.17.5 tzdata-2024.1 yfinance-0.2.38\n",
      "Note: you may need to restart the kernel to use updated packages.\n"
     ]
    }
   ],
   "source": [
    "pip install yfinance"
   ]
  },
  {
   "cell_type": "code",
   "execution_count": 1,
   "id": "09f3ca31-584a-4858-ad97-b3b4cda9eb19",
   "metadata": {},
   "outputs": [],
   "source": [
    "import yfinance as yf"
   ]
  },
  {
   "cell_type": "code",
   "execution_count": 2,
   "id": "b34f4ac1-6e20-4b0c-8636-7b7fbc4ca8ac",
   "metadata": {},
   "outputs": [],
   "source": [
    "import pandas as pd\n",
    "import matplotlib as plt\n",
    "import numpy as np\n",
    "import tensorflow as tf\n",
    "import os\n",
    "from datetime import datetime"
   ]
  },
  {
   "cell_type": "code",
   "execution_count": 3,
   "id": "371c3a88-436e-4847-b94d-f4b7d6183b90",
   "metadata": {},
   "outputs": [],
   "source": [
    "apple=yf.Ticker(\"AAPL\")"
   ]
  },
  {
   "cell_type": "code",
   "execution_count": 4,
   "id": "58163185-91b2-4a71-8d78-806375aa8388",
   "metadata": {},
   "outputs": [],
   "source": [
    "apple= apple.history(period=\"max\")"
   ]
  },
  {
   "cell_type": "code",
   "execution_count": 5,
   "id": "8eecbf5a-7733-4796-af44-90f8d9d02380",
   "metadata": {},
   "outputs": [
    {
     "data": {
      "text/html": [
       "<div>\n",
       "<style scoped>\n",
       "    .dataframe tbody tr th:only-of-type {\n",
       "        vertical-align: middle;\n",
       "    }\n",
       "\n",
       "    .dataframe tbody tr th {\n",
       "        vertical-align: top;\n",
       "    }\n",
       "\n",
       "    .dataframe thead th {\n",
       "        text-align: right;\n",
       "    }\n",
       "</style>\n",
       "<table border=\"1\" class=\"dataframe\">\n",
       "  <thead>\n",
       "    <tr style=\"text-align: right;\">\n",
       "      <th></th>\n",
       "      <th>Open</th>\n",
       "      <th>High</th>\n",
       "      <th>Low</th>\n",
       "      <th>Close</th>\n",
       "      <th>Volume</th>\n",
       "      <th>Dividends</th>\n",
       "      <th>Stock Splits</th>\n",
       "    </tr>\n",
       "    <tr>\n",
       "      <th>Date</th>\n",
       "      <th></th>\n",
       "      <th></th>\n",
       "      <th></th>\n",
       "      <th></th>\n",
       "      <th></th>\n",
       "      <th></th>\n",
       "      <th></th>\n",
       "    </tr>\n",
       "  </thead>\n",
       "  <tbody>\n",
       "    <tr>\n",
       "      <th>1980-12-12 00:00:00-05:00</th>\n",
       "      <td>0.099058</td>\n",
       "      <td>0.099488</td>\n",
       "      <td>0.099058</td>\n",
       "      <td>0.099058</td>\n",
       "      <td>469033600</td>\n",
       "      <td>0.0</td>\n",
       "      <td>0.0</td>\n",
       "    </tr>\n",
       "    <tr>\n",
       "      <th>1980-12-15 00:00:00-05:00</th>\n",
       "      <td>0.094320</td>\n",
       "      <td>0.094320</td>\n",
       "      <td>0.093890</td>\n",
       "      <td>0.093890</td>\n",
       "      <td>175884800</td>\n",
       "      <td>0.0</td>\n",
       "      <td>0.0</td>\n",
       "    </tr>\n",
       "    <tr>\n",
       "      <th>1980-12-16 00:00:00-05:00</th>\n",
       "      <td>0.087429</td>\n",
       "      <td>0.087429</td>\n",
       "      <td>0.086998</td>\n",
       "      <td>0.086998</td>\n",
       "      <td>105728000</td>\n",
       "      <td>0.0</td>\n",
       "      <td>0.0</td>\n",
       "    </tr>\n",
       "    <tr>\n",
       "      <th>1980-12-17 00:00:00-05:00</th>\n",
       "      <td>0.089152</td>\n",
       "      <td>0.089582</td>\n",
       "      <td>0.089152</td>\n",
       "      <td>0.089152</td>\n",
       "      <td>86441600</td>\n",
       "      <td>0.0</td>\n",
       "      <td>0.0</td>\n",
       "    </tr>\n",
       "    <tr>\n",
       "      <th>1980-12-18 00:00:00-05:00</th>\n",
       "      <td>0.091737</td>\n",
       "      <td>0.092167</td>\n",
       "      <td>0.091737</td>\n",
       "      <td>0.091737</td>\n",
       "      <td>73449600</td>\n",
       "      <td>0.0</td>\n",
       "      <td>0.0</td>\n",
       "    </tr>\n",
       "    <tr>\n",
       "      <th>...</th>\n",
       "      <td>...</td>\n",
       "      <td>...</td>\n",
       "      <td>...</td>\n",
       "      <td>...</td>\n",
       "      <td>...</td>\n",
       "      <td>...</td>\n",
       "      <td>...</td>\n",
       "    </tr>\n",
       "    <tr>\n",
       "      <th>2024-05-16 00:00:00-04:00</th>\n",
       "      <td>190.470001</td>\n",
       "      <td>191.100006</td>\n",
       "      <td>189.660004</td>\n",
       "      <td>189.839996</td>\n",
       "      <td>52845200</td>\n",
       "      <td>0.0</td>\n",
       "      <td>0.0</td>\n",
       "    </tr>\n",
       "    <tr>\n",
       "      <th>2024-05-17 00:00:00-04:00</th>\n",
       "      <td>189.509995</td>\n",
       "      <td>190.809998</td>\n",
       "      <td>189.179993</td>\n",
       "      <td>189.869995</td>\n",
       "      <td>41282900</td>\n",
       "      <td>0.0</td>\n",
       "      <td>0.0</td>\n",
       "    </tr>\n",
       "    <tr>\n",
       "      <th>2024-05-20 00:00:00-04:00</th>\n",
       "      <td>189.330002</td>\n",
       "      <td>191.919998</td>\n",
       "      <td>189.009995</td>\n",
       "      <td>191.039993</td>\n",
       "      <td>44361300</td>\n",
       "      <td>0.0</td>\n",
       "      <td>0.0</td>\n",
       "    </tr>\n",
       "    <tr>\n",
       "      <th>2024-05-21 00:00:00-04:00</th>\n",
       "      <td>191.089996</td>\n",
       "      <td>192.729996</td>\n",
       "      <td>190.919998</td>\n",
       "      <td>192.350006</td>\n",
       "      <td>42309400</td>\n",
       "      <td>0.0</td>\n",
       "      <td>0.0</td>\n",
       "    </tr>\n",
       "    <tr>\n",
       "      <th>2024-05-22 00:00:00-04:00</th>\n",
       "      <td>192.270004</td>\n",
       "      <td>192.820007</td>\n",
       "      <td>190.270004</td>\n",
       "      <td>190.899994</td>\n",
       "      <td>34581900</td>\n",
       "      <td>0.0</td>\n",
       "      <td>0.0</td>\n",
       "    </tr>\n",
       "  </tbody>\n",
       "</table>\n",
       "<p>10952 rows × 7 columns</p>\n",
       "</div>"
      ],
      "text/plain": [
       "                                 Open        High         Low       Close  \\\n",
       "Date                                                                        \n",
       "1980-12-12 00:00:00-05:00    0.099058    0.099488    0.099058    0.099058   \n",
       "1980-12-15 00:00:00-05:00    0.094320    0.094320    0.093890    0.093890   \n",
       "1980-12-16 00:00:00-05:00    0.087429    0.087429    0.086998    0.086998   \n",
       "1980-12-17 00:00:00-05:00    0.089152    0.089582    0.089152    0.089152   \n",
       "1980-12-18 00:00:00-05:00    0.091737    0.092167    0.091737    0.091737   \n",
       "...                               ...         ...         ...         ...   \n",
       "2024-05-16 00:00:00-04:00  190.470001  191.100006  189.660004  189.839996   \n",
       "2024-05-17 00:00:00-04:00  189.509995  190.809998  189.179993  189.869995   \n",
       "2024-05-20 00:00:00-04:00  189.330002  191.919998  189.009995  191.039993   \n",
       "2024-05-21 00:00:00-04:00  191.089996  192.729996  190.919998  192.350006   \n",
       "2024-05-22 00:00:00-04:00  192.270004  192.820007  190.270004  190.899994   \n",
       "\n",
       "                              Volume  Dividends  Stock Splits  \n",
       "Date                                                           \n",
       "1980-12-12 00:00:00-05:00  469033600        0.0           0.0  \n",
       "1980-12-15 00:00:00-05:00  175884800        0.0           0.0  \n",
       "1980-12-16 00:00:00-05:00  105728000        0.0           0.0  \n",
       "1980-12-17 00:00:00-05:00   86441600        0.0           0.0  \n",
       "1980-12-18 00:00:00-05:00   73449600        0.0           0.0  \n",
       "...                              ...        ...           ...  \n",
       "2024-05-16 00:00:00-04:00   52845200        0.0           0.0  \n",
       "2024-05-17 00:00:00-04:00   41282900        0.0           0.0  \n",
       "2024-05-20 00:00:00-04:00   44361300        0.0           0.0  \n",
       "2024-05-21 00:00:00-04:00   42309400        0.0           0.0  \n",
       "2024-05-22 00:00:00-04:00   34581900        0.0           0.0  \n",
       "\n",
       "[10952 rows x 7 columns]"
      ]
     },
     "execution_count": 5,
     "metadata": {},
     "output_type": "execute_result"
    }
   ],
   "source": [
    "apple"
   ]
  },
  {
   "cell_type": "code",
   "execution_count": 6,
   "id": "aca25868-eeb5-4012-abcc-2f5f1f44b31a",
   "metadata": {},
   "outputs": [
    {
     "data": {
      "text/plain": [
       "DatetimeIndex(['1980-12-12 00:00:00-05:00', '1980-12-15 00:00:00-05:00',\n",
       "               '1980-12-16 00:00:00-05:00', '1980-12-17 00:00:00-05:00',\n",
       "               '1980-12-18 00:00:00-05:00', '1980-12-19 00:00:00-05:00',\n",
       "               '1980-12-22 00:00:00-05:00', '1980-12-23 00:00:00-05:00',\n",
       "               '1980-12-24 00:00:00-05:00', '1980-12-26 00:00:00-05:00',\n",
       "               ...\n",
       "               '2024-05-09 00:00:00-04:00', '2024-05-10 00:00:00-04:00',\n",
       "               '2024-05-13 00:00:00-04:00', '2024-05-14 00:00:00-04:00',\n",
       "               '2024-05-15 00:00:00-04:00', '2024-05-16 00:00:00-04:00',\n",
       "               '2024-05-17 00:00:00-04:00', '2024-05-20 00:00:00-04:00',\n",
       "               '2024-05-21 00:00:00-04:00', '2024-05-22 00:00:00-04:00'],\n",
       "              dtype='datetime64[ns, America/New_York]', name='Date', length=10952, freq=None)"
      ]
     },
     "execution_count": 6,
     "metadata": {},
     "output_type": "execute_result"
    }
   ],
   "source": [
    "apple.index"
   ]
  },
  {
   "cell_type": "code",
   "execution_count": 7,
   "id": "d75e4e19-eaad-4c63-ace4-8d2d2401b31b",
   "metadata": {},
   "outputs": [
    {
     "data": {
      "text/plain": [
       "<Axes: xlabel='Date'>"
      ]
     },
     "execution_count": 7,
     "metadata": {},
     "output_type": "execute_result"
    },
    {
     "data": {
      "image/png": "[encoded data removed]",
      "text/plain": [
       "<Figure size 640x480 with 1 Axes>"
      ]
     },
     "metadata": {},
     "output_type": "display_data"
    }
   ],
   "source": [
    "apple.plot.line(y=\"Close\", use_index=True)"
   ]
  },
  {
   "cell_type": "code",
   "execution_count": 8,
   "id": "1afd6c7f-c096-475b-8b39-968b58ca7a05",
   "metadata": {},
   "outputs": [],
   "source": [
    "del apple[\"Dividends\"]\n",
    "del apple[\"Stock Splits\"]"
   ]
  },
  {
   "cell_type": "code",
   "execution_count": 9,
   "id": "bbc56775-a23a-4f1a-998e-2d34dd4809b6",
   "metadata": {},
   "outputs": [
    {
     "name": "stdout",
     "output_type": "stream",
     "text": [
      "<class 'pandas.core.frame.DataFrame'>\n",
      "DatetimeIndex: 10952 entries, 1980-12-12 00:00:00-05:00 to 2024-05-22 00:00:00-04:00\n",
      "Data columns (total 5 columns):\n",
      " #   Column  Non-Null Count  Dtype  \n",
      "---  ------  --------------  -----  \n",
      " 0   Open    10952 non-null  float64\n",
      " 1   High    10952 non-null  float64\n",
      " 2   Low     10952 non-null  float64\n",
      " 3   Close   10952 non-null  float64\n",
      " 4   Volume  10952 non-null  int64  \n",
      "dtypes: float64(4), int64(1)\n",
      "memory usage: 513.4 KB\n"
     ]
    }
   ],
   "source": [
    "apple.info()"
   ]
  },
  {
   "cell_type": "code",
   "execution_count": 10,
   "id": "5188d2a7-57e7-4dcb-9af2-fbf6156b3124",
   "metadata": {},
   "outputs": [
    {
     "name": "stdout",
     "output_type": "stream",
     "text": [
      "<class 'pandas.core.frame.DataFrame'>\n",
      "DatetimeIndex: 10952 entries, 1980-12-12 00:00:00-05:00 to 2024-05-22 00:00:00-04:00\n",
      "Data columns (total 6 columns):\n",
      " #   Column  Non-Null Count  Dtype         \n",
      "---  ------  --------------  -----         \n",
      " 0   Open    10952 non-null  float64       \n",
      " 1   High    10952 non-null  float64       \n",
      " 2   Low     10952 non-null  float64       \n",
      " 3   Close   10952 non-null  float64       \n",
      " 4   Volume  10952 non-null  int64         \n",
      " 5   Date    10952 non-null  datetime64[ns]\n",
      "dtypes: datetime64[ns](1), float64(4), int64(1)\n",
      "memory usage: 598.9 KB\n"
     ]
    }
   ],
   "source": [
    "apple['Date'] = apple.index\n",
    "apple['Date'] = pd.to_datetime(apple['Date'])\n",
    "apple[\"Date\"] = apple[\"Date\"].dt.tz_localize(None) \n",
    "apple.info() "
   ]
  },
  {
   "cell_type": "code",
   "execution_count": 11,
   "id": "b07327ce-9f7a-497e-912e-b0bc16d542c9",
   "metadata": {},
   "outputs": [
    {
     "data": {
      "text/plain": [
       "Date\n",
       "1980-12-12 00:00:00-05:00   1980-12-12\n",
       "1980-12-15 00:00:00-05:00   1980-12-15\n",
       "1980-12-16 00:00:00-05:00   1980-12-16\n",
       "1980-12-17 00:00:00-05:00   1980-12-17\n",
       "1980-12-18 00:00:00-05:00   1980-12-18\n",
       "                               ...    \n",
       "2024-05-16 00:00:00-04:00   2024-05-16\n",
       "2024-05-17 00:00:00-04:00   2024-05-17\n",
       "2024-05-20 00:00:00-04:00   2024-05-20\n",
       "2024-05-21 00:00:00-04:00   2024-05-21\n",
       "2024-05-22 00:00:00-04:00   2024-05-22\n",
       "Name: Date, Length: 10952, dtype: datetime64[ns]"
      ]
     },
     "execution_count": 11,
     "metadata": {},
     "output_type": "execute_result"
    }
   ],
   "source": [
    "apple['Date']"
   ]
  },
  {
   "cell_type": "code",
   "execution_count": 15,
   "id": "f662eae6-7eb2-4779-a2fb-273a565fe795",
   "metadata": {},
   "outputs": [
    {
     "data": {
      "text/html": [
       "<div>\n",
       "<style scoped>\n",
       "    .dataframe tbody tr th:only-of-type {\n",
       "        vertical-align: middle;\n",
       "    }\n",
       "\n",
       "    .dataframe tbody tr th {\n",
       "        vertical-align: top;\n",
       "    }\n",
       "\n",
       "    .dataframe thead th {\n",
       "        text-align: right;\n",
       "    }\n",
       "</style>\n",
       "<table border=\"1\" class=\"dataframe\">\n",
       "  <thead>\n",
       "    <tr style=\"text-align: right;\">\n",
       "      <th></th>\n",
       "      <th>Date2</th>\n",
       "      <th>Close</th>\n",
       "    </tr>\n",
       "    <tr>\n",
       "      <th>Date</th>\n",
       "      <th></th>\n",
       "      <th></th>\n",
       "    </tr>\n",
       "  </thead>\n",
       "  <tbody>\n",
       "    <tr>\n",
       "      <th>2008-01-02 00:00:00-05:00</th>\n",
       "      <td>2008-01-02</td>\n",
       "      <td>5.883143</td>\n",
       "    </tr>\n",
       "    <tr>\n",
       "      <th>2008-01-03 00:00:00-05:00</th>\n",
       "      <td>2008-01-03</td>\n",
       "      <td>5.885862</td>\n",
       "    </tr>\n",
       "    <tr>\n",
       "      <th>2008-01-04 00:00:00-05:00</th>\n",
       "      <td>2008-01-04</td>\n",
       "      <td>5.436564</td>\n",
       "    </tr>\n",
       "    <tr>\n",
       "      <th>2008-01-07 00:00:00-05:00</th>\n",
       "      <td>2008-01-07</td>\n",
       "      <td>5.363794</td>\n",
       "    </tr>\n",
       "    <tr>\n",
       "      <th>2008-01-08 00:00:00-05:00</th>\n",
       "      <td>2008-01-08</td>\n",
       "      <td>5.170848</td>\n",
       "    </tr>\n",
       "    <tr>\n",
       "      <th>...</th>\n",
       "      <td>...</td>\n",
       "      <td>...</td>\n",
       "    </tr>\n",
       "    <tr>\n",
       "      <th>2024-05-16 00:00:00-04:00</th>\n",
       "      <td>2024-05-16</td>\n",
       "      <td>189.839996</td>\n",
       "    </tr>\n",
       "    <tr>\n",
       "      <th>2024-05-17 00:00:00-04:00</th>\n",
       "      <td>2024-05-17</td>\n",
       "      <td>189.869995</td>\n",
       "    </tr>\n",
       "    <tr>\n",
       "      <th>2024-05-20 00:00:00-04:00</th>\n",
       "      <td>2024-05-20</td>\n",
       "      <td>191.039993</td>\n",
       "    </tr>\n",
       "    <tr>\n",
       "      <th>2024-05-21 00:00:00-04:00</th>\n",
       "      <td>2024-05-21</td>\n",
       "      <td>192.350006</td>\n",
       "    </tr>\n",
       "    <tr>\n",
       "      <th>2024-05-22 00:00:00-04:00</th>\n",
       "      <td>2024-05-22</td>\n",
       "      <td>190.899994</td>\n",
       "    </tr>\n",
       "  </tbody>\n",
       "</table>\n",
       "<p>4126 rows × 2 columns</p>\n",
       "</div>"
      ],
      "text/plain": [
       "                               Date2       Close\n",
       "Date                                            \n",
       "2008-01-02 00:00:00-05:00 2008-01-02    5.883143\n",
       "2008-01-03 00:00:00-05:00 2008-01-03    5.885862\n",
       "2008-01-04 00:00:00-05:00 2008-01-04    5.436564\n",
       "2008-01-07 00:00:00-05:00 2008-01-07    5.363794\n",
       "2008-01-08 00:00:00-05:00 2008-01-08    5.170848\n",
       "...                              ...         ...\n",
       "2024-05-16 00:00:00-04:00 2024-05-16  189.839996\n",
       "2024-05-17 00:00:00-04:00 2024-05-17  189.869995\n",
       "2024-05-20 00:00:00-04:00 2024-05-20  191.039993\n",
       "2024-05-21 00:00:00-04:00 2024-05-21  192.350006\n",
       "2024-05-22 00:00:00-04:00 2024-05-22  190.899994\n",
       "\n",
       "[4126 rows x 2 columns]"
      ]
     },
     "execution_count": 15,
     "metadata": {},
     "output_type": "execute_result"
    }
   ],
   "source": [
    "apple['Date']\n",
    "\n",
    "# Create a DataFrame\n",
    "df = pd.DataFrame(apple)\n",
    "\n",
    "# Convert datetime strings to datetime objects\n",
    "df['Date2'] = pd.to_datetime(df['Date'])\n",
    "filter_date = pd.to_datetime('2008-01-01')\n",
    "filtered_df = df[df['Date2'] > filter_date][['Date2', 'Close']]\n",
    "df2=pd.concat([df, filtered_df], axis=1)\n",
    "\n",
    "# Display the DataFrame\n",
    "apple2 = filtered_df.filter(['Date2','Close'])\n",
    "apple2"
   ]
  },
  {
   "cell_type": "code",
   "execution_count": 16,
   "id": "6c03b5e9-ff19-4e23-baf8-a4d824205871",
   "metadata": {},
   "outputs": [
    {
     "data": {
      "image/png": "[encoded data removed]",
      "text/plain": [
       "<Figure size 640x480 with 1 Axes>"
      ]
     },
     "metadata": {},
     "output_type": "display_data"
    }
   ],
   "source": [
    "plt.pyplot.plot(apple2['Date2'],apple2['Close']) \n",
    "plt.pyplot.xlabel(\"Date\") \n",
    "plt.pyplot.ylabel(\"Close\") \n",
    "plt.pyplot.title(\"Apple Stock Prices\") \n",
    "plt.pyplot.show()"
   ]
  },
  {
   "cell_type": "code",
   "execution_count": 17,
   "id": "6ddcc4b0-b9cd-4ad0-a692-900605676baa",
   "metadata": {},
   "outputs": [
    {
     "name": "stdout",
     "output_type": "stream",
     "text": [
      "3920\n"
     ]
    }
   ],
   "source": [
    "close_data = apple2.filter(['Close']) \n",
    "dataset = close_data.values \n",
    "dataset=dataset[:,~np.all(np.isnan(dataset), axis=0)]\n",
    "training = int(np.ceil(len(dataset) * .95)) \n",
    "print(training) "
   ]
  },
  {
   "cell_type": "code",
   "execution_count": 18,
   "id": "bdad1d8f-3d7e-45c4-bedf-7d2309239a70",
   "metadata": {},
   "outputs": [
    {
     "data": {
      "text/html": [
       "<div>\n",
       "<style scoped>\n",
       "    .dataframe tbody tr th:only-of-type {\n",
       "        vertical-align: middle;\n",
       "    }\n",
       "\n",
       "    .dataframe tbody tr th {\n",
       "        vertical-align: top;\n",
       "    }\n",
       "\n",
       "    .dataframe thead th {\n",
       "        text-align: right;\n",
       "    }\n",
       "</style>\n",
       "<table border=\"1\" class=\"dataframe\">\n",
       "  <thead>\n",
       "    <tr style=\"text-align: right;\">\n",
       "      <th></th>\n",
       "      <th>Close</th>\n",
       "    </tr>\n",
       "    <tr>\n",
       "      <th>Date</th>\n",
       "      <th></th>\n",
       "    </tr>\n",
       "  </thead>\n",
       "  <tbody>\n",
       "    <tr>\n",
       "      <th>2008-01-02 00:00:00-05:00</th>\n",
       "      <td>5.883143</td>\n",
       "    </tr>\n",
       "    <tr>\n",
       "      <th>2008-01-03 00:00:00-05:00</th>\n",
       "      <td>5.885862</td>\n",
       "    </tr>\n",
       "    <tr>\n",
       "      <th>2008-01-04 00:00:00-05:00</th>\n",
       "      <td>5.436564</td>\n",
       "    </tr>\n",
       "    <tr>\n",
       "      <th>2008-01-07 00:00:00-05:00</th>\n",
       "      <td>5.363794</td>\n",
       "    </tr>\n",
       "    <tr>\n",
       "      <th>2008-01-08 00:00:00-05:00</th>\n",
       "      <td>5.170848</td>\n",
       "    </tr>\n",
       "    <tr>\n",
       "      <th>...</th>\n",
       "      <td>...</td>\n",
       "    </tr>\n",
       "    <tr>\n",
       "      <th>2024-05-16 00:00:00-04:00</th>\n",
       "      <td>189.839996</td>\n",
       "    </tr>\n",
       "    <tr>\n",
       "      <th>2024-05-17 00:00:00-04:00</th>\n",
       "      <td>189.869995</td>\n",
       "    </tr>\n",
       "    <tr>\n",
       "      <th>2024-05-20 00:00:00-04:00</th>\n",
       "      <td>191.039993</td>\n",
       "    </tr>\n",
       "    <tr>\n",
       "      <th>2024-05-21 00:00:00-04:00</th>\n",
       "      <td>192.350006</td>\n",
       "    </tr>\n",
       "    <tr>\n",
       "      <th>2024-05-22 00:00:00-04:00</th>\n",
       "      <td>190.899994</td>\n",
       "    </tr>\n",
       "  </tbody>\n",
       "</table>\n",
       "<p>4126 rows × 1 columns</p>\n",
       "</div>"
      ],
      "text/plain": [
       "                                Close\n",
       "Date                                 \n",
       "2008-01-02 00:00:00-05:00    5.883143\n",
       "2008-01-03 00:00:00-05:00    5.885862\n",
       "2008-01-04 00:00:00-05:00    5.436564\n",
       "2008-01-07 00:00:00-05:00    5.363794\n",
       "2008-01-08 00:00:00-05:00    5.170848\n",
       "...                               ...\n",
       "2024-05-16 00:00:00-04:00  189.839996\n",
       "2024-05-17 00:00:00-04:00  189.869995\n",
       "2024-05-20 00:00:00-04:00  191.039993\n",
       "2024-05-21 00:00:00-04:00  192.350006\n",
       "2024-05-22 00:00:00-04:00  190.899994\n",
       "\n",
       "[4126 rows x 1 columns]"
      ]
     },
     "execution_count": 18,
     "metadata": {},
     "output_type": "execute_result"
    }
   ],
   "source": [
    "close_data"
   ]
  },
  {
   "cell_type": "code",
   "execution_count": 19,
   "id": "83fd744e-3374-4803-9eeb-af3841d6a9d4",
   "metadata": {},
   "outputs": [],
   "source": [
    "from sklearn.preprocessing import MinMaxScaler \n",
    "  \n",
    "scaler = MinMaxScaler(feature_range=(0, 1)) \n",
    "scaled_data = scaler.fit_transform(dataset) \n",
    "  \n",
    "train_data = scaled_data[0:int(training), :] \n",
    "# prepare feature and labels \n",
    "x_train = [] \n",
    "y_train = [] \n",
    "  \n",
    "for i in range(60, len(train_data)): \n",
    "    x_train.append(train_data[i-60:i, 0]) \n",
    "    y_train.append(train_data[i, 0]) \n",
    "  \n",
    "x_train, y_train = np.array(x_train), np.array(y_train) \n",
    "x_train = np.reshape(x_train, (x_train.shape[0], x_train.shape[1], 1)) "
   ]
  },
  {
   "cell_type": "code",
   "execution_count": 20,
   "id": "5a462eb6-f2f9-4072-b89d-42c011c1f357",
   "metadata": {},
   "outputs": [
    {
     "data": {
      "text/plain": [
       "60"
      ]
     },
     "execution_count": 20,
     "metadata": {},
     "output_type": "execute_result"
    }
   ],
   "source": [
    "x_train.shape[1]"
   ]
  },
  {
   "cell_type": "code",
   "execution_count": 21,
   "id": "86c63d9d-0485-44e8-bf6e-6f483b31f088",
   "metadata": {},
   "outputs": [
    {
     "name": "stderr",
     "output_type": "stream",
     "text": [
      "2024-05-23 11:30:05.643404: I metal_plugin/src/device/metal_device.cc:1154] Metal device set to: Apple M1\n",
      "2024-05-23 11:30:05.643433: I metal_plugin/src/device/metal_device.cc:296] systemMemory: 8.00 GB\n",
      "2024-05-23 11:30:05.643439: I metal_plugin/src/device/metal_device.cc:313] maxCacheSize: 2.67 GB\n",
      "2024-05-23 11:30:05.643789: I tensorflow/core/common_runtime/pluggable_device/pluggable_device_factory.cc:306] Could not identify NUMA node of platform GPU ID 0, defaulting to 0. Your kernel may not have been built with NUMA support.\n",
      "2024-05-23 11:30:05.644248: I tensorflow/core/common_runtime/pluggable_device/pluggable_device_factory.cc:272] Created TensorFlow device (/job:localhost/replica:0/task:0/device:GPU:0 with 0 MB memory) -> physical PluggableDevice (device: 0, name: METAL, pci bus id: <undefined>)\n"
     ]
    }
   ],
   "source": [
    "model = tf.keras.models.Sequential([\n",
    "    tf.keras.layers.LSTM(units=64, return_sequences=True, input_shape=(x_train.shape[1], 1)),\n",
    "    tf.keras.layers.LSTM(64,return_sequences=True),\n",
    "    tf.keras.layers.LSTM(32),\n",
    "    tf.keras.layers.Dense(32),\n",
    "    tf.keras.layers.Dropout(0.5),\n",
    "    tf.keras.layers.Dense(1)\n",
    "]) \n"
   ]
  },
  {
   "cell_type": "code",
   "execution_count": 22,
   "id": "9f9f7e69-853a-431d-9375-fa273a3d47e6",
   "metadata": {},
   "outputs": [
    {
     "name": "stdout",
     "output_type": "stream",
     "text": [
      "Model: \"sequential\"\n",
      "_________________________________________________________________\n",
      " Layer (type)                Output Shape              Param #   \n",
      "=================================================================\n",
      " lstm (LSTM)                 (None, 60, 64)            16896     \n",
      "                                                                 \n",
      " lstm_1 (LSTM)               (None, 60, 64)            33024     \n",
      "                                                                 \n",
      " lstm_2 (LSTM)               (None, 32)                12416     \n",
      "                                                                 \n",
      " dense (Dense)               (None, 32)                1056      \n",
      "                                                                 \n",
      " dropout (Dropout)           (None, 32)                0         \n",
      "                                                                 \n",
      " dense_1 (Dense)             (None, 1)                 33        \n",
      "                                                                 \n",
      "=================================================================\n",
      "Total params: 63425 (247.75 KB)\n",
      "Trainable params: 63425 (247.75 KB)\n",
      "Non-trainable params: 0 (0.00 Byte)\n",
      "_________________________________________________________________\n"
     ]
    }
   ],
   "source": [
    "model.summary()"
   ]
  },
  {
   "cell_type": "code",
   "execution_count": 23,
   "id": "c5aa68bf-6c8d-4765-9405-ca1f58455200",
   "metadata": {},
   "outputs": [],
   "source": [
    "class myCallback(tf.keras.callbacks.Callback):\n",
    "  def on_epoch_end(self, epoch, logs={}):\n",
    "    if(logs.get('accuracy')>0.999):\n",
    "      print(\"\\nReached 99.9% accuracy so cancelling training!\")\n",
    "      self.model.stop_training = True"
   ]
  },
  {
   "cell_type": "code",
   "execution_count": 24,
   "id": "25e9c5b3-ca43-4031-aa53-c1cd7c623ac2",
   "metadata": {},
   "outputs": [],
   "source": [
    "model.compile(optimizer = 'Adam',\n",
    "                loss = 'mean_squared_error',\n",
    "             metrics=['accuracy'])"
   ]
  },
  {
   "cell_type": "code",
   "execution_count": 25,
   "id": "77de1725-c1e5-46a9-b0ce-7b44528c9853",
   "metadata": {},
   "outputs": [
    {
     "name": "stdout",
     "output_type": "stream",
     "text": [
      "Epoch 1/50\n"
     ]
    },
    {
     "name": "stderr",
     "output_type": "stream",
     "text": [
      "2024-05-23 11:30:15.415724: I tensorflow/core/grappler/optimizers/custom_graph_optimizer_registry.cc:117] Plugin optimizer for device_type GPU is enabled.\n"
     ]
    },
    {
     "name": "stdout",
     "output_type": "stream",
     "text": [
      "121/121 [==============================] - 5s 21ms/step - loss: 0.0090 - accuracy: 2.5907e-04\n",
      "Epoch 2/50\n",
      "121/121 [==============================] - 2s 16ms/step - loss: 0.0020 - accuracy: 2.5907e-04\n",
      "Epoch 3/50\n",
      "121/121 [==============================] - 2s 16ms/step - loss: 0.0017 - accuracy: 2.5907e-04\n",
      "Epoch 4/50\n",
      "121/121 [==============================] - 2s 16ms/step - loss: 0.0014 - accuracy: 2.5907e-04\n",
      "Epoch 5/50\n",
      "121/121 [==============================] - 2s 16ms/step - loss: 0.0012 - accuracy: 2.5907e-04\n",
      "Epoch 6/50\n",
      "121/121 [==============================] - 2s 16ms/step - loss: 0.0012 - accuracy: 2.5907e-04\n",
      "Epoch 7/50\n",
      "121/121 [==============================] - 2s 16ms/step - loss: 0.0010 - accuracy: 2.5907e-04\n",
      "Epoch 8/50\n",
      "121/121 [==============================] - 2s 16ms/step - loss: 0.0011 - accuracy: 2.5907e-04\n",
      "Epoch 9/50\n",
      "121/121 [==============================] - 2s 16ms/step - loss: 8.3373e-04 - accuracy: 2.5907e-04\n",
      "Epoch 10/50\n",
      "121/121 [==============================] - 2s 16ms/step - loss: 7.4446e-04 - accuracy: 2.5907e-04\n",
      "Epoch 11/50\n",
      "121/121 [==============================] - 2s 16ms/step - loss: 6.2960e-04 - accuracy: 2.5907e-04\n",
      "Epoch 12/50\n",
      "121/121 [==============================] - 2s 16ms/step - loss: 5.9988e-04 - accuracy: 2.5907e-04\n",
      "Epoch 13/50\n",
      "121/121 [==============================] - 2s 16ms/step - loss: 5.4075e-04 - accuracy: 2.5907e-04\n",
      "Epoch 14/50\n",
      "121/121 [==============================] - 2s 16ms/step - loss: 5.2262e-04 - accuracy: 2.5907e-04\n",
      "Epoch 15/50\n",
      "121/121 [==============================] - 2s 16ms/step - loss: 4.5625e-04 - accuracy: 2.5907e-04\n",
      "Epoch 16/50\n",
      "121/121 [==============================] - 2s 16ms/step - loss: 4.9097e-04 - accuracy: 2.5907e-04\n",
      "Epoch 17/50\n",
      "121/121 [==============================] - 2s 16ms/step - loss: 4.2313e-04 - accuracy: 2.5907e-04\n",
      "Epoch 18/50\n",
      "121/121 [==============================] - 2s 16ms/step - loss: 4.2590e-04 - accuracy: 2.5907e-04\n",
      "Epoch 19/50\n",
      "121/121 [==============================] - 2s 16ms/step - loss: 4.2387e-04 - accuracy: 2.5907e-04\n",
      "Epoch 20/50\n",
      "121/121 [==============================] - 2s 16ms/step - loss: 3.9222e-04 - accuracy: 2.5907e-04\n",
      "Epoch 21/50\n",
      "121/121 [==============================] - 2s 16ms/step - loss: 4.2886e-04 - accuracy: 2.5907e-04\n",
      "Epoch 22/50\n",
      "121/121 [==============================] - 2s 16ms/step - loss: 3.8504e-04 - accuracy: 2.5907e-04\n",
      "Epoch 23/50\n",
      "121/121 [==============================] - 2s 16ms/step - loss: 3.9322e-04 - accuracy: 2.5907e-04\n",
      "Epoch 24/50\n",
      "121/121 [==============================] - 2s 16ms/step - loss: 3.3558e-04 - accuracy: 2.5907e-04\n",
      "Epoch 25/50\n",
      "121/121 [==============================] - 2s 16ms/step - loss: 3.0944e-04 - accuracy: 2.5907e-04\n",
      "Epoch 26/50\n",
      "121/121 [==============================] - 2s 16ms/step - loss: 3.3371e-04 - accuracy: 2.5907e-04\n",
      "Epoch 27/50\n",
      "121/121 [==============================] - 2s 16ms/step - loss: 3.0277e-04 - accuracy: 2.5907e-04\n",
      "Epoch 28/50\n",
      "121/121 [==============================] - 2s 16ms/step - loss: 2.8738e-04 - accuracy: 2.5907e-04\n",
      "Epoch 29/50\n",
      "121/121 [==============================] - 2s 16ms/step - loss: 3.0288e-04 - accuracy: 2.5907e-04\n",
      "Epoch 30/50\n",
      "121/121 [==============================] - 2s 16ms/step - loss: 2.5203e-04 - accuracy: 2.5907e-04\n",
      "Epoch 31/50\n",
      "121/121 [==============================] - 2s 16ms/step - loss: 3.3740e-04 - accuracy: 2.5907e-04\n",
      "Epoch 32/50\n",
      "121/121 [==============================] - 2s 16ms/step - loss: 3.3481e-04 - accuracy: 2.5907e-04\n",
      "Epoch 33/50\n",
      "121/121 [==============================] - 2s 16ms/step - loss: 2.6057e-04 - accuracy: 2.5907e-04\n",
      "Epoch 34/50\n",
      "121/121 [==============================] - 2s 16ms/step - loss: 2.3332e-04 - accuracy: 2.5907e-04\n",
      "Epoch 35/50\n",
      "121/121 [==============================] - 2s 16ms/step - loss: 2.5045e-04 - accuracy: 2.5907e-04\n",
      "Epoch 36/50\n",
      "121/121 [==============================] - 2s 16ms/step - loss: 2.8522e-04 - accuracy: 2.5907e-04\n",
      "Epoch 37/50\n",
      "121/121 [==============================] - 2s 16ms/step - loss: 2.4039e-04 - accuracy: 2.5907e-04\n",
      "Epoch 38/50\n",
      "121/121 [==============================] - 2s 16ms/step - loss: 2.3819e-04 - accuracy: 2.5907e-04\n",
      "Epoch 39/50\n",
      "121/121 [==============================] - 2s 16ms/step - loss: 2.1030e-04 - accuracy: 2.5907e-04\n",
      "Epoch 40/50\n",
      "121/121 [==============================] - 2s 16ms/step - loss: 2.1790e-04 - accuracy: 2.5907e-04\n",
      "Epoch 41/50\n",
      "121/121 [==============================] - 2s 16ms/step - loss: 2.4172e-04 - accuracy: 2.5907e-04\n",
      "Epoch 42/50\n",
      "121/121 [==============================] - 2s 16ms/step - loss: 2.8776e-04 - accuracy: 2.5907e-04\n",
      "Epoch 43/50\n",
      "121/121 [==============================] - 2s 16ms/step - loss: 2.2347e-04 - accuracy: 2.5907e-04\n",
      "Epoch 44/50\n",
      "121/121 [==============================] - 2s 16ms/step - loss: 2.3104e-04 - accuracy: 2.5907e-04\n",
      "Epoch 45/50\n",
      "121/121 [==============================] - 2s 16ms/step - loss: 2.1007e-04 - accuracy: 2.5907e-04\n",
      "Epoch 46/50\n",
      "121/121 [==============================] - 2s 16ms/step - loss: 2.5441e-04 - accuracy: 2.5907e-04\n",
      "Epoch 47/50\n",
      "121/121 [==============================] - 2s 16ms/step - loss: 2.3838e-04 - accuracy: 2.5907e-04\n",
      "Epoch 48/50\n",
      "121/121 [==============================] - 2s 16ms/step - loss: 1.9822e-04 - accuracy: 2.5907e-04\n",
      "Epoch 49/50\n",
      "121/121 [==============================] - 2s 16ms/step - loss: 1.7994e-04 - accuracy: 2.5907e-04\n",
      "Epoch 50/50\n",
      "121/121 [==============================] - 2s 16ms/step - loss: 1.9522e-04 - accuracy: 2.5907e-04\n"
     ]
    }
   ],
   "source": [
    "callbacks = myCallback()\n",
    "history = model.fit(x_train, y_train, epochs = 50, callbacks=[callbacks])"
   ]
  },
  {
   "cell_type": "code",
   "execution_count": 26,
   "id": "bb8af57e-026d-4f31-8118-d971504e1527",
   "metadata": {},
   "outputs": [
    {
     "name": "stdout",
     "output_type": "stream",
     "text": [
      "7/7 [==============================] - 1s 12ms/step\n",
      "MSE 17.70914252143177\n",
      "RMSE 4.208223202425433\n"
     ]
    }
   ],
   "source": [
    "test_data = scaled_data[training - 60:, :] \n",
    "x_test = [] \n",
    "y_test = dataset[training:, :] \n",
    "for i in range(60, len(test_data)): \n",
    "    x_test.append(test_data[i-60:i, 0]) \n",
    "  \n",
    "x_test = np.array(x_test) \n",
    "x_test = np.reshape(x_test, (x_test.shape[0], x_test.shape[1], 1)) \n",
    "  \n",
    "# predict the testing data \n",
    "predictions = model.predict(x_test) \n",
    "predictions = scaler.inverse_transform(predictions) \n",
    "  \n",
    "# evaluation metrics \n",
    "mse = np.mean(((predictions - y_test) ** 2)) \n",
    "print(\"MSE\", mse) \n",
    "print(\"RMSE\", np.sqrt(mse)) "
   ]
  },
  {
   "cell_type": "code",
   "execution_count": 27,
   "id": "53fbc88a-92c4-4a20-b61d-c33b35fd5ec0",
   "metadata": {},
   "outputs": [
    {
     "name": "stderr",
     "output_type": "stream",
     "text": [
      "/var/folders/f7/dzgnp6b91mxfpprv51t2rbwm0000gn/T/ipykernel_3860/40059653.py:3: SettingWithCopyWarning: \n",
      "A value is trying to be set on a copy of a slice from a DataFrame.\n",
      "Try using .loc[row_indexer,col_indexer] = value instead\n",
      "\n",
      "See the caveats in the documentation: https://pandas.pydata.org/pandas-docs/stable/user_guide/indexing.html#returning-a-view-versus-a-copy\n",
      "  test['Predictions'] = predictions\n"
     ]
    },
    {
     "data": {
      "text/plain": [
       "<matplotlib.legend.Legend at 0x3174968b0>"
      ]
     },
     "execution_count": 27,
     "metadata": {},
     "output_type": "execute_result"
    },
    {
     "data": {
      "image/png": "[encoded data removed]",
      "text/plain": [
       "<Figure size 1000x800 with 1 Axes>"
      ]
     },
     "metadata": {},
     "output_type": "display_data"
    }
   ],
   "source": [
    "train = apple2[:training] \n",
    "test = apple2[training:] \n",
    "test['Predictions'] = predictions \n",
    "  \n",
    "plt.pyplot.figure(figsize=(10, 8)) \n",
    "plt.pyplot.plot(train['Date2'], train['Close'],linewidth=1) \n",
    "plt.pyplot.plot(test['Date2'], test[['Close', 'Predictions']],linewidth=0.8) \n",
    "plt.pyplot.title('Apple Stock Close Price') \n",
    "plt.pyplot.xlabel('Date') \n",
    "plt.pyplot.ylabel(\"Close\") \n",
    "plt.pyplot.legend(['Train', 'Test', 'Predictions']) "
   ]
  },
  {
   "cell_type": "code",
   "execution_count": null,
   "id": "373ddbaa-e505-441f-b150-4188c79648d0",
   "metadata": {},
   "outputs": [],
   "source": []
  }
 ],
 "metadata": {
  "kernelspec": {
   "display_name": "Python 3 (ipykernel)",
   "language": "python",
   "name": "python3"
  },
  "language_info": {
   "codemirror_mode": {
    "name": "ipython",
    "version": 3
   },
   "file_extension": ".py",
   "mimetype": "text/x-python",
   "name": "python",
   "nbconvert_exporter": "python",
   "pygments_lexer": "ipython3",
   "version": "3.9.18"
  }
 },
 "nbformat": 4,
 "nbformat_minor": 5
}
